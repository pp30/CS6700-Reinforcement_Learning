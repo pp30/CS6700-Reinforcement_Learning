{
  "nbformat": 4,
  "nbformat_minor": 0,
  "metadata": {
    "colab": {
      "name": "RL1P3.ipynb",
      "provenance": [],
      "collapsed_sections": []
    },
    "kernelspec": {
      "name": "python3",
      "display_name": "Python 3"
    },
    "widgets": {
      "application/vnd.jupyter.widget-state+json": {
        "9be34241a3f943e2958ba9a441ccfc98": {
          "model_module": "@jupyter-widgets/controls",
          "model_name": "HBoxModel",
          "state": {
            "_view_name": "HBoxView",
            "_dom_classes": [],
            "_model_name": "HBoxModel",
            "_view_module": "@jupyter-widgets/controls",
            "_model_module_version": "1.5.0",
            "_view_count": null,
            "_view_module_version": "1.5.0",
            "box_style": "",
            "layout": "IPY_MODEL_c3d3e410553643c798acac34bcba476e",
            "_model_module": "@jupyter-widgets/controls",
            "children": [
              "IPY_MODEL_86997c40997e4dda85f886f0ba49d6b2",
              "IPY_MODEL_001abe6734f149b1be913245d1604876"
            ]
          }
        },
        "c3d3e410553643c798acac34bcba476e": {
          "model_module": "@jupyter-widgets/base",
          "model_name": "LayoutModel",
          "state": {
            "_view_name": "LayoutView",
            "grid_template_rows": null,
            "right": null,
            "justify_content": null,
            "_view_module": "@jupyter-widgets/base",
            "overflow": null,
            "_model_module_version": "1.2.0",
            "_view_count": null,
            "flex_flow": null,
            "width": null,
            "min_width": null,
            "border": null,
            "align_items": null,
            "bottom": null,
            "_model_module": "@jupyter-widgets/base",
            "top": null,
            "grid_column": null,
            "overflow_y": null,
            "overflow_x": null,
            "grid_auto_flow": null,
            "grid_area": null,
            "grid_template_columns": null,
            "flex": null,
            "_model_name": "LayoutModel",
            "justify_items": null,
            "grid_row": null,
            "max_height": null,
            "align_content": null,
            "visibility": null,
            "align_self": null,
            "height": null,
            "min_height": null,
            "padding": null,
            "grid_auto_rows": null,
            "grid_gap": null,
            "max_width": null,
            "order": null,
            "_view_module_version": "1.2.0",
            "grid_template_areas": null,
            "object_position": null,
            "object_fit": null,
            "grid_auto_columns": null,
            "margin": null,
            "display": null,
            "left": null
          }
        },
        "86997c40997e4dda85f886f0ba49d6b2": {
          "model_module": "@jupyter-widgets/controls",
          "model_name": "IntProgressModel",
          "state": {
            "_view_name": "ProgressView",
            "style": "IPY_MODEL_5e92287669eb4647927344d5d12bfa40",
            "_dom_classes": [],
            "description": "",
            "_model_name": "IntProgressModel",
            "bar_style": "success",
            "max": 2000,
            "_view_module": "@jupyter-widgets/controls",
            "_model_module_version": "1.5.0",
            "value": 2000,
            "_view_count": null,
            "_view_module_version": "1.5.0",
            "orientation": "horizontal",
            "min": 0,
            "description_tooltip": null,
            "_model_module": "@jupyter-widgets/controls",
            "layout": "IPY_MODEL_c42bf4b3f191482d8242cda89d6fc4f2"
          }
        },
        "001abe6734f149b1be913245d1604876": {
          "model_module": "@jupyter-widgets/controls",
          "model_name": "HTMLModel",
          "state": {
            "_view_name": "HTMLView",
            "style": "IPY_MODEL_129fce78c7d4452aabe5ddad645495f8",
            "_dom_classes": [],
            "description": "",
            "_model_name": "HTMLModel",
            "placeholder": "​",
            "_view_module": "@jupyter-widgets/controls",
            "_model_module_version": "1.5.0",
            "value": "100% 2000/2000 [05:42&lt;00:00,  5.66it/s]",
            "_view_count": null,
            "_view_module_version": "1.5.0",
            "description_tooltip": null,
            "_model_module": "@jupyter-widgets/controls",
            "layout": "IPY_MODEL_9118e2c0e65747a09f524807bd5b0a95"
          }
        },
        "5e92287669eb4647927344d5d12bfa40": {
          "model_module": "@jupyter-widgets/controls",
          "model_name": "ProgressStyleModel",
          "state": {
            "_view_name": "StyleView",
            "_model_name": "ProgressStyleModel",
            "description_width": "",
            "_view_module": "@jupyter-widgets/base",
            "_model_module_version": "1.5.0",
            "_view_count": null,
            "_view_module_version": "1.2.0",
            "bar_color": null,
            "_model_module": "@jupyter-widgets/controls"
          }
        },
        "c42bf4b3f191482d8242cda89d6fc4f2": {
          "model_module": "@jupyter-widgets/base",
          "model_name": "LayoutModel",
          "state": {
            "_view_name": "LayoutView",
            "grid_template_rows": null,
            "right": null,
            "justify_content": null,
            "_view_module": "@jupyter-widgets/base",
            "overflow": null,
            "_model_module_version": "1.2.0",
            "_view_count": null,
            "flex_flow": null,
            "width": null,
            "min_width": null,
            "border": null,
            "align_items": null,
            "bottom": null,
            "_model_module": "@jupyter-widgets/base",
            "top": null,
            "grid_column": null,
            "overflow_y": null,
            "overflow_x": null,
            "grid_auto_flow": null,
            "grid_area": null,
            "grid_template_columns": null,
            "flex": null,
            "_model_name": "LayoutModel",
            "justify_items": null,
            "grid_row": null,
            "max_height": null,
            "align_content": null,
            "visibility": null,
            "align_self": null,
            "height": null,
            "min_height": null,
            "padding": null,
            "grid_auto_rows": null,
            "grid_gap": null,
            "max_width": null,
            "order": null,
            "_view_module_version": "1.2.0",
            "grid_template_areas": null,
            "object_position": null,
            "object_fit": null,
            "grid_auto_columns": null,
            "margin": null,
            "display": null,
            "left": null
          }
        },
        "129fce78c7d4452aabe5ddad645495f8": {
          "model_module": "@jupyter-widgets/controls",
          "model_name": "DescriptionStyleModel",
          "state": {
            "_view_name": "StyleView",
            "_model_name": "DescriptionStyleModel",
            "description_width": "",
            "_view_module": "@jupyter-widgets/base",
            "_model_module_version": "1.5.0",
            "_view_count": null,
            "_view_module_version": "1.2.0",
            "_model_module": "@jupyter-widgets/controls"
          }
        },
        "9118e2c0e65747a09f524807bd5b0a95": {
          "model_module": "@jupyter-widgets/base",
          "model_name": "LayoutModel",
          "state": {
            "_view_name": "LayoutView",
            "grid_template_rows": null,
            "right": null,
            "justify_content": null,
            "_view_module": "@jupyter-widgets/base",
            "overflow": null,
            "_model_module_version": "1.2.0",
            "_view_count": null,
            "flex_flow": null,
            "width": null,
            "min_width": null,
            "border": null,
            "align_items": null,
            "bottom": null,
            "_model_module": "@jupyter-widgets/base",
            "top": null,
            "grid_column": null,
            "overflow_y": null,
            "overflow_x": null,
            "grid_auto_flow": null,
            "grid_area": null,
            "grid_template_columns": null,
            "flex": null,
            "_model_name": "LayoutModel",
            "justify_items": null,
            "grid_row": null,
            "max_height": null,
            "align_content": null,
            "visibility": null,
            "align_self": null,
            "height": null,
            "min_height": null,
            "padding": null,
            "grid_auto_rows": null,
            "grid_gap": null,
            "max_width": null,
            "order": null,
            "_view_module_version": "1.2.0",
            "grid_template_areas": null,
            "object_position": null,
            "object_fit": null,
            "grid_auto_columns": null,
            "margin": null,
            "display": null,
            "left": null
          }
        },
        "b21523155c5a44f190e41cc918cb7dcf": {
          "model_module": "@jupyter-widgets/controls",
          "model_name": "HBoxModel",
          "state": {
            "_view_name": "HBoxView",
            "_dom_classes": [],
            "_model_name": "HBoxModel",
            "_view_module": "@jupyter-widgets/controls",
            "_model_module_version": "1.5.0",
            "_view_count": null,
            "_view_module_version": "1.5.0",
            "box_style": "",
            "layout": "IPY_MODEL_8945a6287a2b4af8a16e2302090bb0e1",
            "_model_module": "@jupyter-widgets/controls",
            "children": [
              "IPY_MODEL_d360ae19e92d428994f61a4ff0b09a4c",
              "IPY_MODEL_32a6e8f169874ee781751c1ce90dbb22"
            ]
          }
        },
        "8945a6287a2b4af8a16e2302090bb0e1": {
          "model_module": "@jupyter-widgets/base",
          "model_name": "LayoutModel",
          "state": {
            "_view_name": "LayoutView",
            "grid_template_rows": null,
            "right": null,
            "justify_content": null,
            "_view_module": "@jupyter-widgets/base",
            "overflow": null,
            "_model_module_version": "1.2.0",
            "_view_count": null,
            "flex_flow": null,
            "width": null,
            "min_width": null,
            "border": null,
            "align_items": null,
            "bottom": null,
            "_model_module": "@jupyter-widgets/base",
            "top": null,
            "grid_column": null,
            "overflow_y": null,
            "overflow_x": null,
            "grid_auto_flow": null,
            "grid_area": null,
            "grid_template_columns": null,
            "flex": null,
            "_model_name": "LayoutModel",
            "justify_items": null,
            "grid_row": null,
            "max_height": null,
            "align_content": null,
            "visibility": null,
            "align_self": null,
            "height": null,
            "min_height": null,
            "padding": null,
            "grid_auto_rows": null,
            "grid_gap": null,
            "max_width": null,
            "order": null,
            "_view_module_version": "1.2.0",
            "grid_template_areas": null,
            "object_position": null,
            "object_fit": null,
            "grid_auto_columns": null,
            "margin": null,
            "display": null,
            "left": null
          }
        },
        "d360ae19e92d428994f61a4ff0b09a4c": {
          "model_module": "@jupyter-widgets/controls",
          "model_name": "IntProgressModel",
          "state": {
            "_view_name": "ProgressView",
            "style": "IPY_MODEL_b7300acdef784e17b4a03e0128e27719",
            "_dom_classes": [],
            "description": "",
            "_model_name": "IntProgressModel",
            "bar_style": "",
            "max": 2000,
            "_view_module": "@jupyter-widgets/controls",
            "_model_module_version": "1.5.0",
            "value": 1386,
            "_view_count": null,
            "_view_module_version": "1.5.0",
            "orientation": "horizontal",
            "min": 0,
            "description_tooltip": null,
            "_model_module": "@jupyter-widgets/controls",
            "layout": "IPY_MODEL_6223e4c73c844bcab5e0725a0946f5b6"
          }
        },
        "32a6e8f169874ee781751c1ce90dbb22": {
          "model_module": "@jupyter-widgets/controls",
          "model_name": "HTMLModel",
          "state": {
            "_view_name": "HTMLView",
            "style": "IPY_MODEL_f3ecf381025e42389bc39bc31e8c12fc",
            "_dom_classes": [],
            "description": "",
            "_model_name": "HTMLModel",
            "placeholder": "​",
            "_view_module": "@jupyter-widgets/controls",
            "_model_module_version": "1.5.0",
            "value": " 69% 1386/2000 [1:00:43&lt;27:01,  2.64s/it]",
            "_view_count": null,
            "_view_module_version": "1.5.0",
            "description_tooltip": null,
            "_model_module": "@jupyter-widgets/controls",
            "layout": "IPY_MODEL_7f6b395a419e4ee6a735071baab092df"
          }
        },
        "b7300acdef784e17b4a03e0128e27719": {
          "model_module": "@jupyter-widgets/controls",
          "model_name": "ProgressStyleModel",
          "state": {
            "_view_name": "StyleView",
            "_model_name": "ProgressStyleModel",
            "description_width": "",
            "_view_module": "@jupyter-widgets/base",
            "_model_module_version": "1.5.0",
            "_view_count": null,
            "_view_module_version": "1.2.0",
            "bar_color": null,
            "_model_module": "@jupyter-widgets/controls"
          }
        },
        "6223e4c73c844bcab5e0725a0946f5b6": {
          "model_module": "@jupyter-widgets/base",
          "model_name": "LayoutModel",
          "state": {
            "_view_name": "LayoutView",
            "grid_template_rows": null,
            "right": null,
            "justify_content": null,
            "_view_module": "@jupyter-widgets/base",
            "overflow": null,
            "_model_module_version": "1.2.0",
            "_view_count": null,
            "flex_flow": null,
            "width": null,
            "min_width": null,
            "border": null,
            "align_items": null,
            "bottom": null,
            "_model_module": "@jupyter-widgets/base",
            "top": null,
            "grid_column": null,
            "overflow_y": null,
            "overflow_x": null,
            "grid_auto_flow": null,
            "grid_area": null,
            "grid_template_columns": null,
            "flex": null,
            "_model_name": "LayoutModel",
            "justify_items": null,
            "grid_row": null,
            "max_height": null,
            "align_content": null,
            "visibility": null,
            "align_self": null,
            "height": null,
            "min_height": null,
            "padding": null,
            "grid_auto_rows": null,
            "grid_gap": null,
            "max_width": null,
            "order": null,
            "_view_module_version": "1.2.0",
            "grid_template_areas": null,
            "object_position": null,
            "object_fit": null,
            "grid_auto_columns": null,
            "margin": null,
            "display": null,
            "left": null
          }
        },
        "f3ecf381025e42389bc39bc31e8c12fc": {
          "model_module": "@jupyter-widgets/controls",
          "model_name": "DescriptionStyleModel",
          "state": {
            "_view_name": "StyleView",
            "_model_name": "DescriptionStyleModel",
            "description_width": "",
            "_view_module": "@jupyter-widgets/base",
            "_model_module_version": "1.5.0",
            "_view_count": null,
            "_view_module_version": "1.2.0",
            "_model_module": "@jupyter-widgets/controls"
          }
        },
        "7f6b395a419e4ee6a735071baab092df": {
          "model_module": "@jupyter-widgets/base",
          "model_name": "LayoutModel",
          "state": {
            "_view_name": "LayoutView",
            "grid_template_rows": null,
            "right": null,
            "justify_content": null,
            "_view_module": "@jupyter-widgets/base",
            "overflow": null,
            "_model_module_version": "1.2.0",
            "_view_count": null,
            "flex_flow": null,
            "width": null,
            "min_width": null,
            "border": null,
            "align_items": null,
            "bottom": null,
            "_model_module": "@jupyter-widgets/base",
            "top": null,
            "grid_column": null,
            "overflow_y": null,
            "overflow_x": null,
            "grid_auto_flow": null,
            "grid_area": null,
            "grid_template_columns": null,
            "flex": null,
            "_model_name": "LayoutModel",
            "justify_items": null,
            "grid_row": null,
            "max_height": null,
            "align_content": null,
            "visibility": null,
            "align_self": null,
            "height": null,
            "min_height": null,
            "padding": null,
            "grid_auto_rows": null,
            "grid_gap": null,
            "max_width": null,
            "order": null,
            "_view_module_version": "1.2.0",
            "grid_template_areas": null,
            "object_position": null,
            "object_fit": null,
            "grid_auto_columns": null,
            "margin": null,
            "display": null,
            "left": null
          }
        }
      }
    }
  },
  "cells": [
    {
      "cell_type": "code",
      "metadata": {
        "id": "bB3gulaacgeI",
        "colab_type": "code",
        "colab": {}
      },
      "source": [
        "import numpy as np\n",
        "import matplotlib.pyplot as plt\n",
        "from tqdm import tqdm_notebook\n",
        "import random"
      ],
      "execution_count": 0,
      "outputs": []
    },
    {
      "cell_type": "code",
      "metadata": {
        "id": "oMJ1Dql0dXLT",
        "colab_type": "code",
        "colab": {}
      },
      "source": [
        "def UCBfunc(eps_list,arms_total=10,steps=1000,runs=2000):\n",
        "  best = 0\n",
        "  R_plot = []\n",
        "  Opt_plot= []\n",
        "\n",
        "  print(\"\\nUCB1 Algo\")\n",
        "  \n",
        "  def bandit1(i,qstar_arr):\n",
        "    r = np.random.normal(qstar_arr[i],1)\n",
        "    return r\n",
        "  \n",
        "  for c in c_list:\n",
        "    best = 0\n",
        "    R_avg = np.zeros(steps)\n",
        "    opt_avg = np.zeros(steps)\n",
        "\n",
        "    for j in tqdm_notebook(range(runs)):\n",
        "        qstar_arr = np.random.standard_normal(arms_total)\n",
        "        true_best = np.argmax(qstar_arr,axis = 0) \n",
        "        \n",
        "        R_arr=[]\n",
        "        opt_arr = np.zeros(steps)\n",
        "\n",
        "        Qarr = np.zeros(arms_total)\n",
        "        Narr = np.zeros(arms_total)\n",
        "\n",
        "        for i in range(steps):\n",
        "          if i>(arms_total-1):\n",
        "            Qarr_ucb = Qarr + np.sqrt(c*np.log(i)/Narr)\n",
        "            best = np.argmax(Qarr_ucb,axis =0)\n",
        "\n",
        "            R = bandit1(best,qstar_arr)\n",
        "            \n",
        "            Narr[best] = Narr[best]+1\n",
        "            Qarr[best] = Qarr[best] + (R-Qarr[best])/Narr[best]\n",
        "              \n",
        "            R_arr.append(Qarr[best])\n",
        "\n",
        "            if true_best == best:\n",
        "              opt_arr[i] =  opt_arr[i] + 1\n",
        "\n",
        "          else:\n",
        "            best = i\n",
        "            R = bandit1(best,qstar_arr)\n",
        "            Narr[best] = Narr[best]+1\n",
        "            Qarr[best] = Qarr[best] + (R-Qarr[best])/Narr[best]\n",
        "\n",
        "            R_arr.append(Qarr[best])\n",
        "\n",
        "            if true_best == best:\n",
        "              opt_arr[i] =  opt_arr[i] + 1\n",
        "\n",
        "        \n",
        "        for k in range(steps):\n",
        "            R_avg[k] = R_avg[k]+(R_arr[k]-R_avg[k])/(j+1)\n",
        "            opt_avg[k] = opt_avg[k] + (opt_arr[k]-opt_avg[k])/(j+1)\n",
        "        \n",
        "    R_plot.append(R_avg)\n",
        "    Opt_plot.append(opt_avg)\n",
        "\n",
        "  return R_plot,Opt_plot        \n",
        "        "
      ],
      "execution_count": 0,
      "outputs": []
    },
    {
      "cell_type": "code",
      "metadata": {
        "id": "4ufR8ON3dfkK",
        "colab_type": "code",
        "colab": {}
      },
      "source": [
        "def ucb_plots(R_plot,Opt_plot):\n",
        "  step_list = list(range(len(R_plot[0])))\n",
        "  R_fig=plt.figure(figsize=(12,6)).add_subplot(111)\n",
        "  Opt_fig=plt.figure(figsize=(12,6)).add_subplot(111)\n",
        "\n",
        "  colors = ['m', 'g', 'b', 'r', 'c','y', 'k']\n",
        "\n",
        "  for i in range(len(R_plot)):\n",
        "      R_fig.plot(step_list, R_plot[i], colors[i] ,label = \"c = \" + str(c_list[i]))\n",
        "\n",
        "  R_fig.title.set_text(r'UCB1 : 10 arms')\n",
        "  R_fig.set_ylabel('Average Reward')\n",
        "  R_fig.set_xlabel('Steps')\n",
        "  R_fig.legend(bbox_to_anchor=(1.05, 1), loc=2, borderaxespad=0.)    \n",
        "\n",
        "\n",
        "  for i in range(len(Opt_plot)):\n",
        "      Opt_fig.plot(step_list, Opt_plot[i]*100, colors[i] ,label = \"c =\" + str(c_list[i]))\n",
        "\n",
        "  Opt_fig.title.set_text(r'UCB1 : 10 arms')\n",
        "  Opt_fig.set_ylabel('% Optimal Action')\n",
        "  Opt_fig.set_xlabel('Steps')\n",
        "  Opt_fig.set_ylim(0,100)\n",
        "  Opt_fig.legend(bbox_to_anchor=(1.05, 1), loc=2, borderaxespad=0.)    \n",
        "\n",
        "  plt.show()"
      ],
      "execution_count": 0,
      "outputs": []
    },
    {
      "cell_type": "code",
      "metadata": {
        "id": "755Hcj87dgRw",
        "colab_type": "code",
        "colab": {}
      },
      "source": [
        ""
      ],
      "execution_count": 0,
      "outputs": []
    },
    {
      "cell_type": "code",
      "metadata": {
        "id": "0RRm5TWmdsF0",
        "colab_type": "code",
        "colab": {}
      },
      "source": [
        ""
      ],
      "execution_count": 0,
      "outputs": []
    },
    {
      "cell_type": "code",
      "metadata": {
        "id": "V989V_jZeBFh",
        "colab_type": "code",
        "colab": {
          "base_uri": "https://localhost:8080/",
          "height": 166,
          "referenced_widgets": [
            "9be34241a3f943e2958ba9a441ccfc98",
            "c3d3e410553643c798acac34bcba476e",
            "86997c40997e4dda85f886f0ba49d6b2",
            "001abe6734f149b1be913245d1604876",
            "5e92287669eb4647927344d5d12bfa40",
            "c42bf4b3f191482d8242cda89d6fc4f2",
            "129fce78c7d4452aabe5ddad645495f8",
            "9118e2c0e65747a09f524807bd5b0a95",
            "b21523155c5a44f190e41cc918cb7dcf",
            "8945a6287a2b4af8a16e2302090bb0e1",
            "d360ae19e92d428994f61a4ff0b09a4c",
            "32a6e8f169874ee781751c1ce90dbb22",
            "b7300acdef784e17b4a03e0128e27719",
            "6223e4c73c844bcab5e0725a0946f5b6",
            "f3ecf381025e42389bc39bc31e8c12fc",
            "7f6b395a419e4ee6a735071baab092df"
          ]
        },
        "outputId": "f956f536-33df-4980-b0fe-c87ccbb30a71"
      },
      "source": [
        "if __name__ == '__main__':\n",
        "\n",
        "  #c_list = [2]\n",
        "  #R_plot_u,Opt_plot_u=UCBfunc(c_list)\n",
        "  #ucb_plots(R_plot_u,Opt_plot_u)\n",
        "\n",
        "  from rl1p1 import EpsilonGreedy\n",
        "  from rl1p2 import Softmax\n",
        "\n",
        "  def comparison_plot(eps_list,temp_list, c_list, arms_total,steps,runs):\n",
        "      \n",
        "      R_plot_e, Opt_plot_e= EpsilonGreedy(eps_list,arms_total,steps,runs)\n",
        "      R_plot_s, Opt_plot_s = Softmax(temp_list,arms_total, steps, runs)\n",
        "      R_plot_u, Opt_plot_u =  UCBfunc(c_list, arms_total,steps,runs)\n",
        "      \n",
        "      fig1=plt.figure(figsize=(10,6)).add_subplot(111)\n",
        "      fig2=plt.figure(figsize=(10,6)).add_subplot(111)\n",
        "      \n",
        "      fig1.plot(range(steps), R_plot_e[0], 'r', label = \"Epsilon-greedy: $\\epsilon$ = \" + str(eps_list[0]) )\n",
        "      fig1.plot(range(steps), R_plot_s[0], 'k', label = \"Softmax: T = \" + str(temp_list[0]))\n",
        "      fig1.plot(range(steps), R_plot_u[0], 'g', label = \"UCB1: c = \" + str(c_list[0]))\n",
        "      \n",
        "      fig2.plot(range(steps), Opt_plot_e[0]*100, 'r', label = \"Epsilon-greedy: $\\epsilon$ = \" + str(eps_list[0]) )\n",
        "      fig2.plot(range(steps), Opt_plot_s[0]*100, 'k', label = \"Softmax: T = \" + str(temp_list[0]))\n",
        "      fig2.plot(range(steps), Opt_plot_u[0]*100, 'g', label = \"UCB1: c = \" + str(c_list[0]))\n",
        "      \n",
        "      fig1.title.set_text(' Average reward comparison between Epsilon greedy, Softmax, UCB1')\n",
        "      fig1.set_xlabel('Steps', fontsize = 15)\n",
        "      fig1.set_ylabel('Average reward', fontsize = 15)\n",
        "      fig1.legend(bbox_to_anchor=(1.05, 1), loc=2, borderaxespad=0.)\n",
        "      \n",
        "      fig2.title.set_text('$\\%$ Optimal action comparison between Epsilon greedy, Softmax, UCB1')\n",
        "      fig2.set_xlabel('Steps', fontsize = 15)\n",
        "      fig2.set_ylabel('$\\%$ Optimal Action', fontsize = 15)\n",
        "      fig2.legend(bbox_to_anchor=(1.05, 1), loc=2, borderaxespad=0.)\n",
        "      \n",
        "      plt.show()\n",
        "\n",
        "  comparison_plot([0.1],[0.1],[2],1000,10000,2000)"
      ],
      "execution_count": 0,
      "outputs": [
        {
          "output_type": "stream",
          "text": [
            "\n",
            "Epsilon Greedy Algo\n"
          ],
          "name": "stdout"
        },
        {
          "output_type": "display_data",
          "data": {
            "application/vnd.jupyter.widget-view+json": {
              "model_id": "9be34241a3f943e2958ba9a441ccfc98",
              "version_minor": 0,
              "version_major": 2
            },
            "text/plain": [
              "HBox(children=(IntProgress(value=0, max=2000), HTML(value='')))"
            ]
          },
          "metadata": {
            "tags": []
          }
        },
        {
          "output_type": "stream",
          "text": [
            "\n",
            "\n",
            "Softmax Algo\n"
          ],
          "name": "stdout"
        },
        {
          "output_type": "display_data",
          "data": {
            "application/vnd.jupyter.widget-view+json": {
              "model_id": "b21523155c5a44f190e41cc918cb7dcf",
              "version_minor": 0,
              "version_major": 2
            },
            "text/plain": [
              "HBox(children=(IntProgress(value=0, max=2000), HTML(value='')))"
            ]
          },
          "metadata": {
            "tags": []
          }
        }
      ]
    },
    {
      "cell_type": "code",
      "metadata": {
        "id": "jh_vST17mPCv",
        "colab_type": "code",
        "colab": {}
      },
      "source": [
        ""
      ],
      "execution_count": 0,
      "outputs": []
    },
    {
      "cell_type": "code",
      "metadata": {
        "id": "IZhYEtXDmcwn",
        "colab_type": "code",
        "colab": {}
      },
      "source": [
        ""
      ],
      "execution_count": 0,
      "outputs": []
    },
    {
      "cell_type": "code",
      "metadata": {
        "id": "rZD_MSQVpIei",
        "colab_type": "code",
        "colab": {}
      },
      "source": [
        ""
      ],
      "execution_count": 0,
      "outputs": []
    }
  ]
}