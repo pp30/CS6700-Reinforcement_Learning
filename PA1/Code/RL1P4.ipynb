{
  "nbformat": 4,
  "nbformat_minor": 0,
  "metadata": {
    "colab": {
      "name": "RL1P4.ipynb",
      "provenance": []
    },
    "kernelspec": {
      "name": "python3",
      "display_name": "Python 3"
    },
    "accelerator": "GPU",
    "widgets": {
      "application/vnd.jupyter.widget-state+json": {
        "b585cc773ef347219222dabb5d142587": {
          "model_module": "@jupyter-widgets/controls",
          "model_name": "HBoxModel",
          "state": {
            "_view_name": "HBoxView",
            "_dom_classes": [],
            "_model_name": "HBoxModel",
            "_view_module": "@jupyter-widgets/controls",
            "_model_module_version": "1.5.0",
            "_view_count": null,
            "_view_module_version": "1.5.0",
            "box_style": "",
            "layout": "IPY_MODEL_48c91fb81a6a4729b62b05a2f074c302",
            "_model_module": "@jupyter-widgets/controls",
            "children": [
              "IPY_MODEL_e0d1d8e1cae048c9a1d1aa6e2a7c4aa0",
              "IPY_MODEL_0fc23f5090464f0f8ad5781cf4409061"
            ]
          }
        },
        "48c91fb81a6a4729b62b05a2f074c302": {
          "model_module": "@jupyter-widgets/base",
          "model_name": "LayoutModel",
          "state": {
            "_view_name": "LayoutView",
            "grid_template_rows": null,
            "right": null,
            "justify_content": null,
            "_view_module": "@jupyter-widgets/base",
            "overflow": null,
            "_model_module_version": "1.2.0",
            "_view_count": null,
            "flex_flow": null,
            "width": null,
            "min_width": null,
            "border": null,
            "align_items": null,
            "bottom": null,
            "_model_module": "@jupyter-widgets/base",
            "top": null,
            "grid_column": null,
            "overflow_y": null,
            "overflow_x": null,
            "grid_auto_flow": null,
            "grid_area": null,
            "grid_template_columns": null,
            "flex": null,
            "_model_name": "LayoutModel",
            "justify_items": null,
            "grid_row": null,
            "max_height": null,
            "align_content": null,
            "visibility": null,
            "align_self": null,
            "height": null,
            "min_height": null,
            "padding": null,
            "grid_auto_rows": null,
            "grid_gap": null,
            "max_width": null,
            "order": null,
            "_view_module_version": "1.2.0",
            "grid_template_areas": null,
            "object_position": null,
            "object_fit": null,
            "grid_auto_columns": null,
            "margin": null,
            "display": null,
            "left": null
          }
        },
        "e0d1d8e1cae048c9a1d1aa6e2a7c4aa0": {
          "model_module": "@jupyter-widgets/controls",
          "model_name": "IntProgressModel",
          "state": {
            "_view_name": "ProgressView",
            "style": "IPY_MODEL_bf09cf41aebf48b7b5fa46afdf8316b8",
            "_dom_classes": [],
            "description": "",
            "_model_name": "IntProgressModel",
            "bar_style": "success",
            "max": 200,
            "_view_module": "@jupyter-widgets/controls",
            "_model_module_version": "1.5.0",
            "value": 200,
            "_view_count": null,
            "_view_module_version": "1.5.0",
            "orientation": "horizontal",
            "min": 0,
            "description_tooltip": null,
            "_model_module": "@jupyter-widgets/controls",
            "layout": "IPY_MODEL_e93e7dca96d74766b5530f7d7a064b5f"
          }
        },
        "0fc23f5090464f0f8ad5781cf4409061": {
          "model_module": "@jupyter-widgets/controls",
          "model_name": "HTMLModel",
          "state": {
            "_view_name": "HTMLView",
            "style": "IPY_MODEL_d7dfcfe90a9f42318525dfa68ebee384",
            "_dom_classes": [],
            "description": "",
            "_model_name": "HTMLModel",
            "placeholder": "​",
            "_view_module": "@jupyter-widgets/controls",
            "_model_module_version": "1.5.0",
            "value": "100% 200/200 [18:07&lt;00:00,  5.58s/it]",
            "_view_count": null,
            "_view_module_version": "1.5.0",
            "description_tooltip": null,
            "_model_module": "@jupyter-widgets/controls",
            "layout": "IPY_MODEL_1cdd8f7e89324f008523b7aa15732b6f"
          }
        },
        "bf09cf41aebf48b7b5fa46afdf8316b8": {
          "model_module": "@jupyter-widgets/controls",
          "model_name": "ProgressStyleModel",
          "state": {
            "_view_name": "StyleView",
            "_model_name": "ProgressStyleModel",
            "description_width": "",
            "_view_module": "@jupyter-widgets/base",
            "_model_module_version": "1.5.0",
            "_view_count": null,
            "_view_module_version": "1.2.0",
            "bar_color": null,
            "_model_module": "@jupyter-widgets/controls"
          }
        },
        "e93e7dca96d74766b5530f7d7a064b5f": {
          "model_module": "@jupyter-widgets/base",
          "model_name": "LayoutModel",
          "state": {
            "_view_name": "LayoutView",
            "grid_template_rows": null,
            "right": null,
            "justify_content": null,
            "_view_module": "@jupyter-widgets/base",
            "overflow": null,
            "_model_module_version": "1.2.0",
            "_view_count": null,
            "flex_flow": null,
            "width": null,
            "min_width": null,
            "border": null,
            "align_items": null,
            "bottom": null,
            "_model_module": "@jupyter-widgets/base",
            "top": null,
            "grid_column": null,
            "overflow_y": null,
            "overflow_x": null,
            "grid_auto_flow": null,
            "grid_area": null,
            "grid_template_columns": null,
            "flex": null,
            "_model_name": "LayoutModel",
            "justify_items": null,
            "grid_row": null,
            "max_height": null,
            "align_content": null,
            "visibility": null,
            "align_self": null,
            "height": null,
            "min_height": null,
            "padding": null,
            "grid_auto_rows": null,
            "grid_gap": null,
            "max_width": null,
            "order": null,
            "_view_module_version": "1.2.0",
            "grid_template_areas": null,
            "object_position": null,
            "object_fit": null,
            "grid_auto_columns": null,
            "margin": null,
            "display": null,
            "left": null
          }
        },
        "d7dfcfe90a9f42318525dfa68ebee384": {
          "model_module": "@jupyter-widgets/controls",
          "model_name": "DescriptionStyleModel",
          "state": {
            "_view_name": "StyleView",
            "_model_name": "DescriptionStyleModel",
            "description_width": "",
            "_view_module": "@jupyter-widgets/base",
            "_model_module_version": "1.5.0",
            "_view_count": null,
            "_view_module_version": "1.2.0",
            "_model_module": "@jupyter-widgets/controls"
          }
        },
        "1cdd8f7e89324f008523b7aa15732b6f": {
          "model_module": "@jupyter-widgets/base",
          "model_name": "LayoutModel",
          "state": {
            "_view_name": "LayoutView",
            "grid_template_rows": null,
            "right": null,
            "justify_content": null,
            "_view_module": "@jupyter-widgets/base",
            "overflow": null,
            "_model_module_version": "1.2.0",
            "_view_count": null,
            "flex_flow": null,
            "width": null,
            "min_width": null,
            "border": null,
            "align_items": null,
            "bottom": null,
            "_model_module": "@jupyter-widgets/base",
            "top": null,
            "grid_column": null,
            "overflow_y": null,
            "overflow_x": null,
            "grid_auto_flow": null,
            "grid_area": null,
            "grid_template_columns": null,
            "flex": null,
            "_model_name": "LayoutModel",
            "justify_items": null,
            "grid_row": null,
            "max_height": null,
            "align_content": null,
            "visibility": null,
            "align_self": null,
            "height": null,
            "min_height": null,
            "padding": null,
            "grid_auto_rows": null,
            "grid_gap": null,
            "max_width": null,
            "order": null,
            "_view_module_version": "1.2.0",
            "grid_template_areas": null,
            "object_position": null,
            "object_fit": null,
            "grid_auto_columns": null,
            "margin": null,
            "display": null,
            "left": null
          }
        }
      }
    }
  },
  "cells": [
    {
      "cell_type": "code",
      "metadata": {
        "id": "hgrgl6TajI2j",
        "colab_type": "code",
        "colab": {}
      },
      "source": [
        "import numpy as np\n",
        "import matplotlib.pyplot as plt\n",
        "from tqdm import tqdm_notebook\n",
        "import random"
      ],
      "execution_count": 0,
      "outputs": []
    },
    {
      "cell_type": "code",
      "metadata": {
        "id": "6beeQ0e_jQ3k",
        "colab_type": "code",
        "colab": {}
      },
      "source": [
        "def MedianElim(eps_delta,arms_total = 10, total_runs= 50):    \n",
        "  R_avg=[]\n",
        "  opt_avg=[]\n",
        "\n",
        "\n",
        "  def bandit1(i_true,qstar_arr):\n",
        "    r = np.random.normal(qstar_arr[i_true],1)\n",
        "    return r\n",
        "\n",
        "  for runs in tqdm_notebook(range(total_runs)): \n",
        "    \n",
        "    eps_med = eps_delta[0]\n",
        "    delta_med = eps_delta[1]\n",
        "    \n",
        "    index = list(range(arms_total))\n",
        "\n",
        "    qstar_arr = np.random.standard_normal(arms_total)\n",
        "    true_best = np.argmax(qstar_arr,axis = 0) \n",
        "\n",
        "    Qarr = np.zeros(arms_total)\n",
        "    R_arr=[]\n",
        "    count = 0\n",
        "    l = 0\n",
        "    N_total = 0\n",
        "\n",
        "    while len(Qarr)>1:\n",
        "      l = l+1\n",
        "      if l == 1:\n",
        "        eps_med = eps_med/4\n",
        "        delta_med = delta_med/2\n",
        "      else:\n",
        "        eps_med = 3*eps_med/4\n",
        "        delta_med = delta_med/2  \n",
        "\n",
        "      N_sampling=np.int(np.log(3/delta_med)/np.square(eps_med/2))  \n",
        "      N_total =N_total+N_sampling\n",
        "      for j in range(len(Qarr)):\n",
        "        if l==1:\n",
        "          count = 0\n",
        "        for i in range(N_sampling):\n",
        "          R = bandit1(index[j],qstar_arr)\n",
        "          count=count+1\n",
        "      \n",
        "          Qarr[j] = Qarr[j] + (R-Qarr[j])/(count)\n",
        "          R_arr.append(R)\n",
        "          if runs == 0:\n",
        "            R_avg.append(0)\n",
        "      count = N_total    \n",
        "      m = np.median(Qarr)\n",
        "      Q= []\n",
        "      ind= []\n",
        "\n",
        "      for a,i in zip(Qarr,index):\n",
        "        if a >= m:\n",
        "          Q.append(a)\n",
        "          ind.append(i)  \n",
        "\n",
        "      Qarr = Q\n",
        "      index = ind\n",
        "    #while loop ended  \n",
        "    for k in range(len(R_arr)):\n",
        "      R_avg[k] = R_avg[k]+(R_arr[k]-R_avg[k])/(runs+1)\n",
        "     \n",
        "  \n",
        " \n",
        "  return R_avg\n",
        "      \n",
        "\n"
      ],
      "execution_count": 0,
      "outputs": []
    },
    {
      "cell_type": "code",
      "metadata": {
        "id": "RUzxyqXRGlaU",
        "colab_type": "code",
        "colab": {}
      },
      "source": [
        "def median_plots(R_avg):\n",
        "  step_list = list(range(len(R_avg)))\n",
        "  R_fig=plt.figure(figsize=(12,6)).add_subplot(111)\n",
        "  colors = ['m', 'g', 'b', 'r', 'c','y', 'k']\n",
        "\n",
        "  R_fig.plot(step_list, R_avg, colors[0])\n",
        "  R_fig.title.set_text(r'Median Elimination : 10 arms')\n",
        "  R_fig.set_ylabel('Average Reward')\n",
        "  R_fig.set_xlabel('Steps')\n",
        "\n",
        "  plt.show()\n"
      ],
      "execution_count": 0,
      "outputs": []
    },
    {
      "cell_type": "code",
      "metadata": {
        "id": "UHI68uhOTNP_",
        "colab_type": "code",
        "colab": {
          "base_uri": "https://localhost:8080/",
          "height": 49,
          "referenced_widgets": [
            "b585cc773ef347219222dabb5d142587",
            "48c91fb81a6a4729b62b05a2f074c302",
            "e0d1d8e1cae048c9a1d1aa6e2a7c4aa0",
            "0fc23f5090464f0f8ad5781cf4409061",
            "bf09cf41aebf48b7b5fa46afdf8316b8",
            "e93e7dca96d74766b5530f7d7a064b5f",
            "d7dfcfe90a9f42318525dfa68ebee384",
            "1cdd8f7e89324f008523b7aa15732b6f"
          ]
        },
        "outputId": "6d37ba4c-2351-4692-ae68-5b4adf41130a"
      },
      "source": [
        "eps_delta = [0.1,0.1]\n",
        "R_plot_m=MedianElim(eps_delta,10,200)\n"
      ],
      "execution_count": 33,
      "outputs": [
        {
          "output_type": "display_data",
          "data": {
            "application/vnd.jupyter.widget-view+json": {
              "model_id": "b585cc773ef347219222dabb5d142587",
              "version_minor": 0,
              "version_major": 2
            },
            "text/plain": [
              "HBox(children=(IntProgress(value=0, max=200), HTML(value='')))"
            ]
          },
          "metadata": {
            "tags": []
          }
        }
      ]
    },
    {
      "cell_type": "code",
      "metadata": {
        "id": "pLBgCN9HFajl",
        "colab_type": "code",
        "colab": {
          "base_uri": "https://localhost:8080/",
          "height": 404
        },
        "outputId": "74d7a7e1-c142-418d-e744-e6fedf3ab058"
      },
      "source": [
        "median_plots(R_plot_m)\n"
      ],
      "execution_count": 34,
      "outputs": [
        {
          "output_type": "display_data",
          "data": {
            "image/png": "[encoded data removed]",
            "text/plain": [
              "<Figure size 864x432 with 1 Axes>"
            ]
          },
          "metadata": {
            "tags": []
          }
        }
      ]
    }
  ]
}